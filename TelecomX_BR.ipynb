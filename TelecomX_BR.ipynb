{
 "cells": [
  {
   "cell_type": "markdown",
   "id": "23424057-3dc7-46b6-82a7-d9db09490cda",
   "metadata": {
    "editable": true,
    "id": "4foVEKhrlqcH",
    "slideshow": {
     "slide_type": ""
    },
    "tags": []
   },
   "source": [
    "## 📌 Importação de bibliotecas"
   ]
  },
  {
   "cell_type": "code",
   "execution_count": 1,
   "id": "e1823661-823c-4d68-8282-319c90c4b567",
   "metadata": {},
   "outputs": [],
   "source": [
    "import pandas as pd\n",
    "import numpy as np"
   ]
  },
  {
   "cell_type": "code",
   "execution_count": 2,
   "id": "16cc2c05-7a15-44cd-9451-8f90954ffc27",
   "metadata": {},
   "outputs": [],
   "source": [
    "from scipy import stats\n",
    "#from sklearn.preprocessing import MinMaxScaler, StandardScaler, Normalizer"
   ]
  },
  {
   "cell_type": "code",
   "execution_count": 3,
   "id": "6f3c6e8b-bb4a-4f82-ab9b-a98c59dc3396",
   "metadata": {},
   "outputs": [
    {
     "data": {
      "text/html": [
       "\n",
       "            <div>\n",
       "                <ins><a href=\"https://ydata.ai/register\">Upgrade to ydata-sdk</a></ins>\n",
       "                <p>\n",
       "                    Improve your data and profiling with ydata-sdk, featuring data quality scoring, redundancy detection, outlier identification, text validation, and synthetic data generation.\n",
       "                </p>\n",
       "            </div>\n",
       "            "
      ],
      "text/plain": [
       "<IPython.core.display.HTML object>"
      ]
     },
     "metadata": {},
     "output_type": "display_data"
    }
   ],
   "source": [
    "import scripts.local_tools as lt\n",
    "import scripts.telecomx_analysis as ta"
   ]
  },
  {
   "cell_type": "raw",
   "id": "558e80d8-72e0-4735-b4dd-0609d2aea1bd",
   "metadata": {},
   "source": []
  },
  {
   "cell_type": "code",
   "execution_count": 4,
   "id": "c2c65b93-8de9-4a0f-b9ae-772249264040",
   "metadata": {},
   "outputs": [],
   "source": [
    "pd.set_option('display.max_columns', None)"
   ]
  },
  {
   "cell_type": "code",
   "execution_count": null,
   "id": "45a059f4-4f16-4e3f-8f5d-ff1590d0f45c",
   "metadata": {},
   "outputs": [],
   "source": []
  },
  {
   "cell_type": "raw",
   "id": "09a70eb5-bc01-4538-87f0-e1c74f3521fe",
   "metadata": {},
   "source": []
  },
  {
   "cell_type": "markdown",
   "id": "b0356e7f-5da9-42be-a4b6-7df36730d6ce",
   "metadata": {
    "id": "4foVEKhrlqcH"
   },
   "source": [
    "## 📌 Extracão"
   ]
  },
  {
   "cell_type": "markdown",
   "id": "04c23763-d572-4b6a-99ac-d9b2a95de0f6",
   "metadata": {},
   "source": [
    "### Extração dos dados"
   ]
  },
  {
   "cell_type": "code",
   "execution_count": 5,
   "id": "79d1c83a-7b27-4184-a887-fd31ffcf495c",
   "metadata": {},
   "outputs": [],
   "source": [
    "path_json_data = 'https://raw.githubusercontent.com/jpierre06/challenge2-data-science/main/TelecomX_Data.json'"
   ]
  },
  {
   "cell_type": "code",
   "execution_count": 6,
   "id": "29bb0958-85d4-4e47-8fae-c031ed682c44",
   "metadata": {},
   "outputs": [],
   "source": [
    "df = ta.carregar_dados_telecomx_normalizado(path_json_data)"
   ]
  },
  {
   "cell_type": "code",
   "execution_count": null,
   "id": "9da64793-32da-4a0a-b1bb-31113d589b55",
   "metadata": {},
   "outputs": [],
   "source": []
  },
  {
   "cell_type": "code",
   "execution_count": 7,
   "id": "57f8e193-c5a5-4f87-9f76-5b61e94a5dee",
   "metadata": {},
   "outputs": [],
   "source": [
    "#lt.save_profile_report(df, \"./report/telecom_data_report_before\", title=\"Relatório de Análise de Dados da Telecom X - Antes do tratamento de dados\")"
   ]
  },
  {
   "cell_type": "raw",
   "id": "ab7eb1dd-e8ba-4042-b36f-58923d4aee30",
   "metadata": {},
   "source": []
  },
  {
   "cell_type": "markdown",
   "id": "d2f97357-cd75-40f6-b219-3e0db86852f6",
   "metadata": {
    "id": "1lSZP8zmmGZu"
   },
   "source": [
    "## 🔧 Transformação"
   ]
  },
  {
   "cell_type": "markdown",
   "id": "f2e4abe6-8cb3-4382-839f-eb2f1700d646",
   "metadata": {},
   "source": [
    "### Tipo de dados"
   ]
  },
  {
   "cell_type": "code",
   "execution_count": 8,
   "id": "3884a0c6-6d6e-464a-9e6d-9c880a4fb4db",
   "metadata": {},
   "outputs": [
    {
     "name": "stdout",
     "output_type": "stream",
     "text": [
      "<class 'pandas.core.frame.DataFrame'>\n",
      "RangeIndex: 7267 entries, 0 to 7266\n",
      "Data columns (total 21 columns):\n",
      " #   Column                     Non-Null Count  Dtype  \n",
      "---  ------                     --------------  -----  \n",
      " 0   customerID                 7267 non-null   object \n",
      " 1   Churn                      7267 non-null   object \n",
      " 2   customer_gender            7267 non-null   object \n",
      " 3   customer_SeniorCitizen     7267 non-null   int64  \n",
      " 4   customer_Partner           7267 non-null   object \n",
      " 5   customer_Dependents        7267 non-null   object \n",
      " 6   customer_tenure            7267 non-null   int64  \n",
      " 7   phone_PhoneService         7267 non-null   object \n",
      " 8   phone_MultipleLines        7267 non-null   object \n",
      " 9   internet_InternetService   7267 non-null   object \n",
      " 10  internet_OnlineSecurity    7267 non-null   object \n",
      " 11  internet_OnlineBackup      7267 non-null   object \n",
      " 12  internet_DeviceProtection  7267 non-null   object \n",
      " 13  internet_TechSupport       7267 non-null   object \n",
      " 14  internet_StreamingTV       7267 non-null   object \n",
      " 15  internet_StreamingMovies   7267 non-null   object \n",
      " 16  account_Contract           7267 non-null   object \n",
      " 17  account_PaperlessBilling   7267 non-null   object \n",
      " 18  account_PaymentMethod      7267 non-null   object \n",
      " 19  account_Charges_Monthly    7267 non-null   float64\n",
      " 20  account_Charges_Total      7267 non-null   object \n",
      "dtypes: float64(1), int64(2), object(18)\n",
      "memory usage: 1.2+ MB\n"
     ]
    }
   ],
   "source": [
    "df.info()"
   ]
  },
  {
   "cell_type": "raw",
   "id": "07b822b8-11fa-47c3-b86a-c354a3ed5250",
   "metadata": {},
   "source": []
  },
  {
   "cell_type": "markdown",
   "id": "abcb08bc-7d3d-4393-9e04-3d6de19b2aa5",
   "metadata": {},
   "source": [
    "### Identificar colunas valores categóricos"
   ]
  },
  {
   "cell_type": "code",
   "execution_count": 9,
   "id": "815985a2-0564-43b9-a143-402c1ac75080",
   "metadata": {},
   "outputs": [
    {
     "name": "stdout",
     "output_type": "stream",
     "text": [
      "\n",
      "Coluna: Churn. Quantidade de domínios: 3. Valores do domínios: ['' 'No' 'Yes']\n",
      "\n",
      "Coluna: customer_gender. Quantidade de domínios: 2. Valores do domínios: ['Female' 'Male']\n",
      "\n",
      "Coluna: customer_SeniorCitizen. Quantidade de domínios: 2. Valores do domínios: [0 1]\n",
      "\n",
      "Coluna: customer_Partner. Quantidade de domínios: 2. Valores do domínios: ['No' 'Yes']\n",
      "\n",
      "Coluna: customer_Dependents. Quantidade de domínios: 2. Valores do domínios: ['No' 'Yes']\n",
      "\n",
      "Coluna: phone_PhoneService. Quantidade de domínios: 2. Valores do domínios: ['No' 'Yes']\n",
      "\n",
      "Coluna: phone_MultipleLines. Quantidade de domínios: 3. Valores do domínios: ['No' 'No phone service' 'Yes']\n",
      "\n",
      "Coluna: internet_InternetService. Quantidade de domínios: 3. Valores do domínios: ['DSL' 'Fiber optic' 'No']\n",
      "\n",
      "Coluna: internet_OnlineSecurity. Quantidade de domínios: 3. Valores do domínios: ['No' 'No internet service' 'Yes']\n",
      "\n",
      "Coluna: internet_OnlineBackup. Quantidade de domínios: 3. Valores do domínios: ['No' 'No internet service' 'Yes']\n",
      "\n",
      "Coluna: internet_DeviceProtection. Quantidade de domínios: 3. Valores do domínios: ['No' 'No internet service' 'Yes']\n",
      "\n",
      "Coluna: internet_TechSupport. Quantidade de domínios: 3. Valores do domínios: ['No' 'No internet service' 'Yes']\n",
      "\n",
      "Coluna: internet_StreamingTV. Quantidade de domínios: 3. Valores do domínios: ['No' 'No internet service' 'Yes']\n",
      "\n",
      "Coluna: internet_StreamingMovies. Quantidade de domínios: 3. Valores do domínios: ['No' 'No internet service' 'Yes']\n",
      "\n",
      "Coluna: account_Contract. Quantidade de domínios: 3. Valores do domínios: ['Month-to-month' 'One year' 'Two year']\n",
      "\n",
      "Coluna: account_PaperlessBilling. Quantidade de domínios: 2. Valores do domínios: ['No' 'Yes']\n",
      "\n",
      "Coluna: account_PaymentMethod. Quantidade de domínios: 4. Valores do domínios: ['Bank transfer (automatic)' 'Credit card (automatic)' 'Electronic check'\n",
      " 'Mailed check']\n"
     ]
    }
   ],
   "source": [
    "colunas_categoricas = ta.extrair_colunas_categoricas(df, 5)"
   ]
  },
  {
   "cell_type": "raw",
   "id": "a45d2328-4b00-442e-bf8a-e775d6d4943d",
   "metadata": {},
   "source": []
  },
  {
   "cell_type": "markdown",
   "id": "e3a47cbe-9edb-47f7-bdeb-0f2a45e6bdae",
   "metadata": {},
   "source": [
    "### Identificar colunas valores numericos"
   ]
  },
  {
   "cell_type": "code",
   "execution_count": 10,
   "id": "abd9165c-3340-438e-9987-96e1d38f9a9c",
   "metadata": {},
   "outputs": [
    {
     "name": "stdout",
     "output_type": "stream",
     "text": [
      "['customer_tenure', 'account_Charges_Total', 'account_Charges_Monthly']\n"
     ]
    }
   ],
   "source": [
    "colunas_numericas = ta.extrair_colunas_numericas(df, colunas_categoricas, ['customerID'])"
   ]
  },
  {
   "cell_type": "code",
   "execution_count": 11,
   "id": "b599663b-4d2f-419a-96c3-5abc1916b204",
   "metadata": {},
   "outputs": [
    {
     "name": "stdout",
     "output_type": "stream",
     "text": [
      "Coluna: customer_tenure. Valores: [ 0  1  2  3  4  5  6  7  8  9 10 11 12 13 14 15 16 17 18 19 20 21 22 23\n",
      " 24 25 26 27 28 29 30 31 32 33 34 35 36 37 38 39 40 41 42 43 44 45 46 47\n",
      " 48 49 50 51 52 53 54 55 56 57 58 59 60 61 62 63 64 65 66 67 68 69 70 71\n",
      " 72]\n",
      "\n",
      "Coluna: account_Charges_Total. Valores: [' ' '100.2' '100.25' ... '999.45' '999.8' '999.9']\n",
      "\n",
      "Coluna: account_Charges_Monthly. Valores: [ 18.25  18.4   18.55 ... 118.6  118.65 118.75]\n",
      "\n"
     ]
    }
   ],
   "source": [
    "for c in colunas_numericas:\n",
    "    print(f'Coluna: {c}. Valores: {np.unique(df[c])}\\n')"
   ]
  },
  {
   "cell_type": "raw",
   "id": "795d153b-61bd-4167-93aa-c23c5470bb32",
   "metadata": {},
   "source": []
  },
  {
   "cell_type": "markdown",
   "id": "94807836-faa2-420f-b4c8-020f75b768a4",
   "metadata": {},
   "source": [
    "### Tratamento de valores inválidos"
   ]
  },
  {
   "cell_type": "code",
   "execution_count": 12,
   "id": "ec922ad7-846b-4e62-abda-92c652c5feeb",
   "metadata": {},
   "outputs": [
    {
     "name": "stdout",
     "output_type": "stream",
     "text": [
      "\n",
      "Valores inválidos coluna Churn: 224\n",
      "\n",
      "Valores inválidos coluna account_Charges_Total: 11\n",
      "\n",
      "Valores inválidos coluna Churn: 0\n",
      "\n",
      "Valores inválidos coluna account_Charges_Total: 0\n",
      "\n",
      "Clientes sem serviços de Telefone e Internet contratados: 0\n",
      "\n",
      "Clientes com múltiplas linhas de Telefone sem serviço de Telefone contratado: 0\n"
     ]
    }
   ],
   "source": [
    "df = ta.tratar_valores_invalidados(df)"
   ]
  },
  {
   "cell_type": "raw",
   "id": "cabcc183-49cc-4a29-92fd-be6376e794ae",
   "metadata": {},
   "source": []
  },
  {
   "cell_type": "markdown",
   "id": "7ad7d746-b5c4-4562-b1f5-948e65532f00",
   "metadata": {},
   "source": [
    "### Tratamento de dados de colunas com valores binários"
   ]
  },
  {
   "cell_type": "code",
   "execution_count": 13,
   "id": "c85a60f5-4c96-4920-96d0-c540e6eafc29",
   "metadata": {},
   "outputs": [
    {
     "name": "stdout",
     "output_type": "stream",
     "text": [
      "Coluna: Churn. Quantidade de domínios: 2. Valores do domínios: [0 1]\n",
      "\n",
      "Coluna: customer_SeniorCitizen. Quantidade de domínios: 2. Valores do domínios: [0 1]\n",
      "\n",
      "Coluna: customer_Partner. Quantidade de domínios: 2. Valores do domínios: [0 1]\n",
      "\n",
      "Coluna: customer_Dependents. Quantidade de domínios: 2. Valores do domínios: [0 1]\n",
      "\n",
      "Coluna: phone_PhoneService. Quantidade de domínios: 2. Valores do domínios: [0 1]\n",
      "\n",
      "Coluna: phone_MultipleLines. Quantidade de domínios: 2. Valores do domínios: [0 1]\n",
      "\n",
      "Coluna: internet_InternetService. Quantidade de domínios: 2. Valores do domínios: [0 1]\n",
      "\n",
      "Coluna: internet_OnlineSecurity. Quantidade de domínios: 2. Valores do domínios: [0 1]\n",
      "\n",
      "Coluna: internet_OnlineBackup. Quantidade de domínios: 2. Valores do domínios: [0 1]\n",
      "\n",
      "Coluna: internet_DeviceProtection. Quantidade de domínios: 2. Valores do domínios: [0 1]\n",
      "\n",
      "Coluna: internet_TechSupport. Quantidade de domínios: 2. Valores do domínios: [0 1]\n",
      "\n",
      "Coluna: internet_StreamingTV. Quantidade de domínios: 2. Valores do domínios: [0 1]\n",
      "\n",
      "Coluna: internet_StreamingMovies. Quantidade de domínios: 2. Valores do domínios: [0 1]\n",
      "\n",
      "Coluna: account_PaperlessBilling. Quantidade de domínios: 2. Valores do domínios: [0 1]\n",
      "\n"
     ]
    }
   ],
   "source": [
    "df, colunas_valores_binarios = ta.tratar_colunas_valores_binarios(df)"
   ]
  },
  {
   "cell_type": "raw",
   "id": "3d0aedae-c4b4-4510-b590-d0d82c0ea71b",
   "metadata": {},
   "source": []
  },
  {
   "cell_type": "markdown",
   "id": "fb26724b-59fd-40d0-8544-bfe7986e4202",
   "metadata": {},
   "source": [
    "### Conversão de tipo de dados"
   ]
  },
  {
   "cell_type": "code",
   "execution_count": 14,
   "id": "2e4766b4-fc6e-4315-83c8-e1ce078f530e",
   "metadata": {},
   "outputs": [],
   "source": [
    "df = lt.convert_types(df, ['account_Charges_Total'], ['float'])"
   ]
  },
  {
   "cell_type": "raw",
   "id": "747f1e59-341b-4a42-b838-bcc2114c2242",
   "metadata": {},
   "source": []
  },
  {
   "cell_type": "code",
   "execution_count": 15,
   "id": "d8f238a6-79db-4a7b-9572-8722887b7d64",
   "metadata": {},
   "outputs": [
    {
     "name": "stdout",
     "output_type": "stream",
     "text": [
      "<class 'pandas.core.frame.DataFrame'>\n",
      "RangeIndex: 7267 entries, 0 to 7266\n",
      "Data columns (total 22 columns):\n",
      " #   Column                        Non-Null Count  Dtype  \n",
      "---  ------                        --------------  -----  \n",
      " 0   customerID                    7267 non-null   object \n",
      " 1   Churn                         7267 non-null   int64  \n",
      " 2   customer_gender               7267 non-null   object \n",
      " 3   customer_SeniorCitizen        7267 non-null   int64  \n",
      " 4   customer_Partner              7267 non-null   int64  \n",
      " 5   customer_Dependents           7267 non-null   int64  \n",
      " 6   customer_tenure               7267 non-null   int64  \n",
      " 7   phone_PhoneService            7267 non-null   int64  \n",
      " 8   phone_MultipleLines           7267 non-null   int64  \n",
      " 9   internet_InternetService      7267 non-null   int64  \n",
      " 10  internet_OnlineSecurity       7267 non-null   int64  \n",
      " 11  internet_OnlineBackup         7267 non-null   int64  \n",
      " 12  internet_DeviceProtection     7267 non-null   int64  \n",
      " 13  internet_TechSupport          7267 non-null   int64  \n",
      " 14  internet_StreamingTV          7267 non-null   int64  \n",
      " 15  internet_StreamingMovies      7267 non-null   int64  \n",
      " 16  account_Contract              7267 non-null   object \n",
      " 17  account_PaperlessBilling      7267 non-null   int64  \n",
      " 18  account_PaymentMethod         7267 non-null   object \n",
      " 19  account_Charges_Monthly       7267 non-null   float64\n",
      " 20  account_Charges_Total         7267 non-null   float64\n",
      " 21  internet_Service_Description  7267 non-null   object \n",
      "dtypes: float64(2), int64(15), object(5)\n",
      "memory usage: 1.2+ MB\n"
     ]
    }
   ],
   "source": [
    "df.info()"
   ]
  },
  {
   "cell_type": "raw",
   "id": "94457798-3f77-4260-a61f-6ce66da93cc1",
   "metadata": {},
   "source": []
  },
  {
   "cell_type": "markdown",
   "id": "afe597ec-94b3-433e-b3ab-5f8cea8a18cc",
   "metadata": {},
   "source": [
    "### Criação de colunas derivadas dos dados"
   ]
  },
  {
   "cell_type": "code",
   "execution_count": 16,
   "id": "3e9e5a9b-4439-47ac-8138-a123dbe9f5f7",
   "metadata": {},
   "outputs": [],
   "source": [
    "df = ta.criar_colunas_derivadas(df)"
   ]
  },
  {
   "cell_type": "raw",
   "id": "19c82d26-5e30-4c95-906b-a9b1d13bccc0",
   "metadata": {},
   "source": []
  },
  {
   "cell_type": "markdown",
   "id": "78ac74e6-d31a-4b4e-8c8f-db0d8e58880c",
   "metadata": {},
   "source": [
    "### Criar bases separadas de Churn"
   ]
  },
  {
   "cell_type": "code",
   "execution_count": 17,
   "id": "edb11477-a472-46f7-b930-176e3a10b65b",
   "metadata": {},
   "outputs": [],
   "source": [
    "# Separando os grupos de chrun\n",
    "df_yes = df[df['Churn'] == 1]\n",
    "df_no = df[df['Churn'] == 0]"
   ]
  },
  {
   "cell_type": "raw",
   "id": "493d2e7c-108e-474b-8405-bf569cc781e0",
   "metadata": {},
   "source": []
  },
  {
   "cell_type": "markdown",
   "id": "ea17f323-df3c-46e9-b8ea-2567511c76da",
   "metadata": {
    "id": "6XnTC2NTmMRL"
   },
   "source": [
    "## 📊 Carga e análise"
   ]
  },
  {
   "cell_type": "markdown",
   "id": "4f507e9a-1bdf-46f8-9704-8952a022b3c0",
   "metadata": {},
   "source": [
    "### Análise descritiva dos dados"
   ]
  },
  {
   "cell_type": "code",
   "execution_count": 18,
   "id": "d9a74a7b-c16e-481e-9ce1-d73b7b650cdb",
   "metadata": {},
   "outputs": [
    {
     "data": {
      "text/html": [
       "<div>\n",
       "<style scoped>\n",
       "    .dataframe tbody tr th:only-of-type {\n",
       "        vertical-align: middle;\n",
       "    }\n",
       "\n",
       "    .dataframe tbody tr th {\n",
       "        vertical-align: top;\n",
       "    }\n",
       "\n",
       "    .dataframe thead th {\n",
       "        text-align: right;\n",
       "    }\n",
       "</style>\n",
       "<table border=\"1\" class=\"dataframe\">\n",
       "  <thead>\n",
       "    <tr style=\"text-align: right;\">\n",
       "      <th></th>\n",
       "      <th>count</th>\n",
       "      <th>mean</th>\n",
       "      <th>std</th>\n",
       "    </tr>\n",
       "  </thead>\n",
       "  <tbody>\n",
       "    <tr>\n",
       "      <th>Churn</th>\n",
       "      <td>1869.0</td>\n",
       "      <td>1.000000</td>\n",
       "      <td>0.000000</td>\n",
       "    </tr>\n",
       "    <tr>\n",
       "      <th>customer_SeniorCitizen</th>\n",
       "      <td>1869.0</td>\n",
       "      <td>0.254682</td>\n",
       "      <td>0.435799</td>\n",
       "    </tr>\n",
       "    <tr>\n",
       "      <th>customer_Partner</th>\n",
       "      <td>1869.0</td>\n",
       "      <td>0.357945</td>\n",
       "      <td>0.479524</td>\n",
       "    </tr>\n",
       "    <tr>\n",
       "      <th>customer_Dependents</th>\n",
       "      <td>1869.0</td>\n",
       "      <td>0.174425</td>\n",
       "      <td>0.379576</td>\n",
       "    </tr>\n",
       "    <tr>\n",
       "      <th>phone_PhoneService</th>\n",
       "      <td>1869.0</td>\n",
       "      <td>0.909042</td>\n",
       "      <td>0.287626</td>\n",
       "    </tr>\n",
       "    <tr>\n",
       "      <th>phone_MultipleLines</th>\n",
       "      <td>1869.0</td>\n",
       "      <td>0.454789</td>\n",
       "      <td>0.498085</td>\n",
       "    </tr>\n",
       "    <tr>\n",
       "      <th>internet_InternetService</th>\n",
       "      <td>1869.0</td>\n",
       "      <td>0.939540</td>\n",
       "      <td>0.238401</td>\n",
       "    </tr>\n",
       "    <tr>\n",
       "      <th>internet_OnlineSecurity</th>\n",
       "      <td>1869.0</td>\n",
       "      <td>0.157838</td>\n",
       "      <td>0.364687</td>\n",
       "    </tr>\n",
       "    <tr>\n",
       "      <th>internet_OnlineBackup</th>\n",
       "      <td>1869.0</td>\n",
       "      <td>0.279829</td>\n",
       "      <td>0.449035</td>\n",
       "    </tr>\n",
       "    <tr>\n",
       "      <th>internet_DeviceProtection</th>\n",
       "      <td>1869.0</td>\n",
       "      <td>0.291600</td>\n",
       "      <td>0.454621</td>\n",
       "    </tr>\n",
       "    <tr>\n",
       "      <th>internet_TechSupport</th>\n",
       "      <td>1869.0</td>\n",
       "      <td>0.165864</td>\n",
       "      <td>0.372058</td>\n",
       "    </tr>\n",
       "    <tr>\n",
       "      <th>internet_StreamingTV</th>\n",
       "      <td>1869.0</td>\n",
       "      <td>0.435527</td>\n",
       "      <td>0.495959</td>\n",
       "    </tr>\n",
       "    <tr>\n",
       "      <th>internet_StreamingMovies</th>\n",
       "      <td>1869.0</td>\n",
       "      <td>0.437667</td>\n",
       "      <td>0.496232</td>\n",
       "    </tr>\n",
       "    <tr>\n",
       "      <th>account_PaperlessBilling</th>\n",
       "      <td>1869.0</td>\n",
       "      <td>0.749064</td>\n",
       "      <td>0.433668</td>\n",
       "    </tr>\n",
       "  </tbody>\n",
       "</table>\n",
       "</div>"
      ],
      "text/plain": [
       "                            count      mean       std\n",
       "Churn                      1869.0  1.000000  0.000000\n",
       "customer_SeniorCitizen     1869.0  0.254682  0.435799\n",
       "customer_Partner           1869.0  0.357945  0.479524\n",
       "customer_Dependents        1869.0  0.174425  0.379576\n",
       "phone_PhoneService         1869.0  0.909042  0.287626\n",
       "phone_MultipleLines        1869.0  0.454789  0.498085\n",
       "internet_InternetService   1869.0  0.939540  0.238401\n",
       "internet_OnlineSecurity    1869.0  0.157838  0.364687\n",
       "internet_OnlineBackup      1869.0  0.279829  0.449035\n",
       "internet_DeviceProtection  1869.0  0.291600  0.454621\n",
       "internet_TechSupport       1869.0  0.165864  0.372058\n",
       "internet_StreamingTV       1869.0  0.435527  0.495959\n",
       "internet_StreamingMovies   1869.0  0.437667  0.496232\n",
       "account_PaperlessBilling   1869.0  0.749064  0.433668"
      ]
     },
     "execution_count": 18,
     "metadata": {},
     "output_type": "execute_result"
    }
   ],
   "source": [
    "df_yes[colunas_valores_binarios].describe().T[['count', 'mean', 'std']]"
   ]
  },
  {
   "cell_type": "code",
   "execution_count": 19,
   "id": "0a95bb01-3edf-4ba9-ad22-b869432b4eb6",
   "metadata": {},
   "outputs": [
    {
     "data": {
      "text/html": [
       "<div>\n",
       "<style scoped>\n",
       "    .dataframe tbody tr th:only-of-type {\n",
       "        vertical-align: middle;\n",
       "    }\n",
       "\n",
       "    .dataframe tbody tr th {\n",
       "        vertical-align: top;\n",
       "    }\n",
       "\n",
       "    .dataframe thead th {\n",
       "        text-align: right;\n",
       "    }\n",
       "</style>\n",
       "<table border=\"1\" class=\"dataframe\">\n",
       "  <thead>\n",
       "    <tr style=\"text-align: right;\">\n",
       "      <th></th>\n",
       "      <th>customer_tenure</th>\n",
       "      <th>account_Charges_Monthly</th>\n",
       "      <th>account_Charges_Total</th>\n",
       "    </tr>\n",
       "  </thead>\n",
       "  <tbody>\n",
       "    <tr>\n",
       "      <th>count</th>\n",
       "      <td>1869</td>\n",
       "      <td>1869</td>\n",
       "      <td>1869</td>\n",
       "    </tr>\n",
       "    <tr>\n",
       "      <th>count_zero</th>\n",
       "      <td>0</td>\n",
       "      <td>0</td>\n",
       "      <td>0</td>\n",
       "    </tr>\n",
       "    <tr>\n",
       "      <th>count_nonzero</th>\n",
       "      <td>1869</td>\n",
       "      <td>1869</td>\n",
       "      <td>1869</td>\n",
       "    </tr>\n",
       "    <tr>\n",
       "      <th>count_unique</th>\n",
       "      <td>72</td>\n",
       "      <td>910</td>\n",
       "      <td>1732</td>\n",
       "    </tr>\n",
       "    <tr>\n",
       "      <th>mean</th>\n",
       "      <td>17.979133</td>\n",
       "      <td>74.441332</td>\n",
       "      <td>1531.796094</td>\n",
       "    </tr>\n",
       "    <tr>\n",
       "      <th>median</th>\n",
       "      <td>10.0</td>\n",
       "      <td>79.65</td>\n",
       "      <td>703.55</td>\n",
       "    </tr>\n",
       "    <tr>\n",
       "      <th>mode</th>\n",
       "      <td>1</td>\n",
       "      <td>74.4</td>\n",
       "      <td>20.2</td>\n",
       "    </tr>\n",
       "    <tr>\n",
       "      <th>mode_lists</th>\n",
       "      <td>[1]</td>\n",
       "      <td>[74.4]</td>\n",
       "      <td>[20.2]</td>\n",
       "    </tr>\n",
       "    <tr>\n",
       "      <th>mode_count</th>\n",
       "      <td>380</td>\n",
       "      <td>13</td>\n",
       "      <td>6</td>\n",
       "    </tr>\n",
       "    <tr>\n",
       "      <th>min</th>\n",
       "      <td>1</td>\n",
       "      <td>18.85</td>\n",
       "      <td>18.85</td>\n",
       "    </tr>\n",
       "    <tr>\n",
       "      <th>25%</th>\n",
       "      <td>2.0</td>\n",
       "      <td>56.15</td>\n",
       "      <td>134.5</td>\n",
       "    </tr>\n",
       "    <tr>\n",
       "      <th>50%</th>\n",
       "      <td>10.0</td>\n",
       "      <td>79.65</td>\n",
       "      <td>703.55</td>\n",
       "    </tr>\n",
       "    <tr>\n",
       "      <th>75%</th>\n",
       "      <td>29.0</td>\n",
       "      <td>94.2</td>\n",
       "      <td>2331.3</td>\n",
       "    </tr>\n",
       "    <tr>\n",
       "      <th>max</th>\n",
       "      <td>72</td>\n",
       "      <td>118.35</td>\n",
       "      <td>8684.8</td>\n",
       "    </tr>\n",
       "    <tr>\n",
       "      <th>range_values</th>\n",
       "      <td>71</td>\n",
       "      <td>99.5</td>\n",
       "      <td>8665.95</td>\n",
       "    </tr>\n",
       "    <tr>\n",
       "      <th>iqr</th>\n",
       "      <td>27.0</td>\n",
       "      <td>38.05</td>\n",
       "      <td>2196.8</td>\n",
       "    </tr>\n",
       "    <tr>\n",
       "      <th>lower_outlier</th>\n",
       "      <td>-38.5</td>\n",
       "      <td>-0.925</td>\n",
       "      <td>-3160.7</td>\n",
       "    </tr>\n",
       "    <tr>\n",
       "      <th>count_lower_outlier</th>\n",
       "      <td>0</td>\n",
       "      <td>0</td>\n",
       "      <td>0</td>\n",
       "    </tr>\n",
       "    <tr>\n",
       "      <th>upper_outlier</th>\n",
       "      <td>69.5</td>\n",
       "      <td>151.275</td>\n",
       "      <td>5626.5</td>\n",
       "    </tr>\n",
       "    <tr>\n",
       "      <th>count_upper_outlier</th>\n",
       "      <td>23</td>\n",
       "      <td>0</td>\n",
       "      <td>109</td>\n",
       "    </tr>\n",
       "    <tr>\n",
       "      <th>mean_abs_deviation</th>\n",
       "      <td>16.015162</td>\n",
       "      <td>19.801776</td>\n",
       "      <td>1478.825857</td>\n",
       "    </tr>\n",
       "    <tr>\n",
       "      <th>std</th>\n",
       "      <td>19.531123</td>\n",
       "      <td>24.666053</td>\n",
       "      <td>1890.822994</td>\n",
       "    </tr>\n",
       "    <tr>\n",
       "      <th>median_abs_deviation</th>\n",
       "      <td>9.0</td>\n",
       "      <td>15.2</td>\n",
       "      <td>632.8</td>\n",
       "    </tr>\n",
       "    <tr>\n",
       "      <th>median_abs_deviation_norm</th>\n",
       "      <td>13.34342</td>\n",
       "      <td>22.535554</td>\n",
       "      <td>938.190684</td>\n",
       "    </tr>\n",
       "    <tr>\n",
       "      <th>coefficient_variation</th>\n",
       "      <td>1.086322</td>\n",
       "      <td>0.331349</td>\n",
       "      <td>1.234383</td>\n",
       "    </tr>\n",
       "    <tr>\n",
       "      <th>variance</th>\n",
       "      <td>381.260667</td>\n",
       "      <td>608.088654</td>\n",
       "      <td>3573298.695595</td>\n",
       "    </tr>\n",
       "    <tr>\n",
       "      <th>kurt</th>\n",
       "      <td>0.19625</td>\n",
       "      <td>-0.361516</td>\n",
       "      <td>1.461704</td>\n",
       "    </tr>\n",
       "    <tr>\n",
       "      <th>kurtosis</th>\n",
       "      <td>0.192517</td>\n",
       "      <td>-0.363758</td>\n",
       "      <td>1.454587</td>\n",
       "    </tr>\n",
       "    <tr>\n",
       "      <th>skew</th>\n",
       "      <td>1.14928</td>\n",
       "      <td>-0.729374</td>\n",
       "      <td>1.510915</td>\n",
       "    </tr>\n",
       "    <tr>\n",
       "      <th>shapiro_stat</th>\n",
       "      <td>0.819973</td>\n",
       "      <td>0.928404</td>\n",
       "      <td>0.778718</td>\n",
       "    </tr>\n",
       "    <tr>\n",
       "      <th>shapiro_pvalue</th>\n",
       "      <td>0.0</td>\n",
       "      <td>0.0</td>\n",
       "      <td>0.0</td>\n",
       "    </tr>\n",
       "    <tr>\n",
       "      <th>autocorr</th>\n",
       "      <td>-0.024873</td>\n",
       "      <td>-0.037029</td>\n",
       "      <td>-0.029552</td>\n",
       "    </tr>\n",
       "    <tr>\n",
       "      <th>circvar</th>\n",
       "      <td>0.814474</td>\n",
       "      <td>0.874937</td>\n",
       "      <td>0.934737</td>\n",
       "    </tr>\n",
       "    <tr>\n",
       "      <th>circmean</th>\n",
       "      <td>1.473743</td>\n",
       "      <td>6.22977</td>\n",
       "      <td>1.011389</td>\n",
       "    </tr>\n",
       "    <tr>\n",
       "      <th>circstd</th>\n",
       "      <td>1.835516</td>\n",
       "      <td>2.039087</td>\n",
       "      <td>2.336376</td>\n",
       "    </tr>\n",
       "    <tr>\n",
       "      <th>entropy</th>\n",
       "      <td>6.980635</td>\n",
       "      <td>7.469597</td>\n",
       "      <td>6.869367</td>\n",
       "    </tr>\n",
       "    <tr>\n",
       "      <th>kstat</th>\n",
       "      <td>381.464768</td>\n",
       "      <td>608.414183</td>\n",
       "      <td>3575211.596395</td>\n",
       "    </tr>\n",
       "    <tr>\n",
       "      <th>kstatvar</th>\n",
       "      <td>170.894561</td>\n",
       "      <td>324.377342</td>\n",
       "      <td>23656671197.760517</td>\n",
       "    </tr>\n",
       "  </tbody>\n",
       "</table>\n",
       "</div>"
      ],
      "text/plain": [
       "                          customer_tenure account_Charges_Monthly  \\\n",
       "count                                1869                    1869   \n",
       "count_zero                              0                       0   \n",
       "count_nonzero                        1869                    1869   \n",
       "count_unique                           72                     910   \n",
       "mean                            17.979133               74.441332   \n",
       "median                               10.0                   79.65   \n",
       "mode                                    1                    74.4   \n",
       "mode_lists                            [1]                  [74.4]   \n",
       "mode_count                            380                      13   \n",
       "min                                     1                   18.85   \n",
       "25%                                   2.0                   56.15   \n",
       "50%                                  10.0                   79.65   \n",
       "75%                                  29.0                    94.2   \n",
       "max                                    72                  118.35   \n",
       "range_values                           71                    99.5   \n",
       "iqr                                  27.0                   38.05   \n",
       "lower_outlier                       -38.5                  -0.925   \n",
       "count_lower_outlier                     0                       0   \n",
       "upper_outlier                        69.5                 151.275   \n",
       "count_upper_outlier                    23                       0   \n",
       "mean_abs_deviation              16.015162               19.801776   \n",
       "std                             19.531123               24.666053   \n",
       "median_abs_deviation                  9.0                    15.2   \n",
       "median_abs_deviation_norm        13.34342               22.535554   \n",
       "coefficient_variation            1.086322                0.331349   \n",
       "variance                       381.260667              608.088654   \n",
       "kurt                              0.19625               -0.361516   \n",
       "kurtosis                         0.192517               -0.363758   \n",
       "skew                              1.14928               -0.729374   \n",
       "shapiro_stat                     0.819973                0.928404   \n",
       "shapiro_pvalue                        0.0                     0.0   \n",
       "autocorr                        -0.024873               -0.037029   \n",
       "circvar                          0.814474                0.874937   \n",
       "circmean                         1.473743                 6.22977   \n",
       "circstd                          1.835516                2.039087   \n",
       "entropy                          6.980635                7.469597   \n",
       "kstat                          381.464768              608.414183   \n",
       "kstatvar                       170.894561              324.377342   \n",
       "\n",
       "                          account_Charges_Total  \n",
       "count                                      1869  \n",
       "count_zero                                    0  \n",
       "count_nonzero                              1869  \n",
       "count_unique                               1732  \n",
       "mean                                1531.796094  \n",
       "median                                   703.55  \n",
       "mode                                       20.2  \n",
       "mode_lists                               [20.2]  \n",
       "mode_count                                    6  \n",
       "min                                       18.85  \n",
       "25%                                       134.5  \n",
       "50%                                      703.55  \n",
       "75%                                      2331.3  \n",
       "max                                      8684.8  \n",
       "range_values                            8665.95  \n",
       "iqr                                      2196.8  \n",
       "lower_outlier                           -3160.7  \n",
       "count_lower_outlier                           0  \n",
       "upper_outlier                            5626.5  \n",
       "count_upper_outlier                         109  \n",
       "mean_abs_deviation                  1478.825857  \n",
       "std                                 1890.822994  \n",
       "median_abs_deviation                      632.8  \n",
       "median_abs_deviation_norm            938.190684  \n",
       "coefficient_variation                  1.234383  \n",
       "variance                         3573298.695595  \n",
       "kurt                                   1.461704  \n",
       "kurtosis                               1.454587  \n",
       "skew                                   1.510915  \n",
       "shapiro_stat                           0.778718  \n",
       "shapiro_pvalue                              0.0  \n",
       "autocorr                              -0.029552  \n",
       "circvar                                0.934737  \n",
       "circmean                               1.011389  \n",
       "circstd                                2.336376  \n",
       "entropy                                6.869367  \n",
       "kstat                            3575211.596395  \n",
       "kstatvar                     23656671197.760517  "
      ]
     },
     "execution_count": 19,
     "metadata": {},
     "output_type": "execute_result"
    }
   ],
   "source": [
    "lt.describe_full_df(df_yes[['customer_tenure', 'account_Charges_Monthly', 'account_Charges_Total']])"
   ]
  },
  {
   "cell_type": "markdown",
   "id": "5abb6144-7e74-4fed-b1c2-0f11c80de032",
   "metadata": {},
   "source": [
    "### Análise de Churn por categoria"
   ]
  },
  {
   "cell_type": "code",
   "execution_count": 20,
   "id": "9a4f01c1-87d8-495b-9523-2807fd2d76dd",
   "metadata": {},
   "outputs": [
    {
     "data": {
      "text/html": [
       "<div>\n",
       "<style scoped>\n",
       "    .dataframe tbody tr th:only-of-type {\n",
       "        vertical-align: middle;\n",
       "    }\n",
       "\n",
       "    .dataframe tbody tr th {\n",
       "        vertical-align: top;\n",
       "    }\n",
       "\n",
       "    .dataframe thead th {\n",
       "        text-align: right;\n",
       "    }\n",
       "</style>\n",
       "<table border=\"1\" class=\"dataframe\">\n",
       "  <thead>\n",
       "    <tr style=\"text-align: right;\">\n",
       "      <th></th>\n",
       "      <th>customer_gender</th>\n",
       "      <th>customer</th>\n",
       "      <th>perc_total_customer</th>\n",
       "      <th>churn</th>\n",
       "      <th>perc_churn_customer</th>\n",
       "    </tr>\n",
       "  </thead>\n",
       "  <tbody>\n",
       "    <tr>\n",
       "      <th>0</th>\n",
       "      <td>Female</td>\n",
       "      <td>3592</td>\n",
       "      <td>49.43</td>\n",
       "      <td>939</td>\n",
       "      <td>26.14</td>\n",
       "    </tr>\n",
       "    <tr>\n",
       "      <th>1</th>\n",
       "      <td>Male</td>\n",
       "      <td>3675</td>\n",
       "      <td>50.57</td>\n",
       "      <td>930</td>\n",
       "      <td>25.31</td>\n",
       "    </tr>\n",
       "  </tbody>\n",
       "</table>\n",
       "</div>"
      ],
      "text/plain": [
       "  customer_gender  customer  perc_total_customer  churn  perc_churn_customer\n",
       "0          Female      3592                49.43    939                26.14\n",
       "1            Male      3675                50.57    930                25.31"
      ]
     },
     "execution_count": 20,
     "metadata": {},
     "output_type": "execute_result"
    }
   ],
   "source": [
    "ta.calcular_percentual_churn_categoria(df, 'customer_gender')"
   ]
  },
  {
   "cell_type": "code",
   "execution_count": 21,
   "id": "ba5c25e4-b904-4588-b114-c3557e27bd86",
   "metadata": {},
   "outputs": [
    {
     "data": {
      "text/html": [
       "<div>\n",
       "<style scoped>\n",
       "    .dataframe tbody tr th:only-of-type {\n",
       "        vertical-align: middle;\n",
       "    }\n",
       "\n",
       "    .dataframe tbody tr th {\n",
       "        vertical-align: top;\n",
       "    }\n",
       "\n",
       "    .dataframe thead th {\n",
       "        text-align: right;\n",
       "    }\n",
       "</style>\n",
       "<table border=\"1\" class=\"dataframe\">\n",
       "  <thead>\n",
       "    <tr style=\"text-align: right;\">\n",
       "      <th></th>\n",
       "      <th>customer_tenure_bins</th>\n",
       "      <th>customer</th>\n",
       "      <th>perc_total_customer</th>\n",
       "      <th>churn</th>\n",
       "      <th>perc_churn_customer</th>\n",
       "    </tr>\n",
       "  </thead>\n",
       "  <tbody>\n",
       "    <tr>\n",
       "      <th>0</th>\n",
       "      <td>000-005</td>\n",
       "      <td>1421</td>\n",
       "      <td>19.55</td>\n",
       "      <td>744</td>\n",
       "      <td>52.36</td>\n",
       "    </tr>\n",
       "    <tr>\n",
       "      <th>1</th>\n",
       "      <td>006-011</td>\n",
       "      <td>725</td>\n",
       "      <td>9.98</td>\n",
       "      <td>255</td>\n",
       "      <td>35.17</td>\n",
       "    </tr>\n",
       "    <tr>\n",
       "      <th>2</th>\n",
       "      <td>012-017</td>\n",
       "      <td>580</td>\n",
       "      <td>7.98</td>\n",
       "      <td>191</td>\n",
       "      <td>32.93</td>\n",
       "    </tr>\n",
       "    <tr>\n",
       "      <th>3</th>\n",
       "      <td>018-023</td>\n",
       "      <td>489</td>\n",
       "      <td>6.73</td>\n",
       "      <td>118</td>\n",
       "      <td>24.13</td>\n",
       "    </tr>\n",
       "    <tr>\n",
       "      <th>4</th>\n",
       "      <td>024-029</td>\n",
       "      <td>469</td>\n",
       "      <td>6.45</td>\n",
       "      <td>101</td>\n",
       "      <td>21.54</td>\n",
       "    </tr>\n",
       "    <tr>\n",
       "      <th>5</th>\n",
       "      <td>030-035</td>\n",
       "      <td>439</td>\n",
       "      <td>6.04</td>\n",
       "      <td>92</td>\n",
       "      <td>20.96</td>\n",
       "    </tr>\n",
       "    <tr>\n",
       "      <th>6</th>\n",
       "      <td>036-041</td>\n",
       "      <td>373</td>\n",
       "      <td>5.13</td>\n",
       "      <td>79</td>\n",
       "      <td>21.18</td>\n",
       "    </tr>\n",
       "    <tr>\n",
       "      <th>7</th>\n",
       "      <td>042-047</td>\n",
       "      <td>395</td>\n",
       "      <td>5.44</td>\n",
       "      <td>67</td>\n",
       "      <td>16.96</td>\n",
       "    </tr>\n",
       "    <tr>\n",
       "      <th>8</th>\n",
       "      <td>048-053</td>\n",
       "      <td>429</td>\n",
       "      <td>5.90</td>\n",
       "      <td>64</td>\n",
       "      <td>14.92</td>\n",
       "    </tr>\n",
       "    <tr>\n",
       "      <th>9</th>\n",
       "      <td>054-059</td>\n",
       "      <td>419</td>\n",
       "      <td>5.77</td>\n",
       "      <td>59</td>\n",
       "      <td>14.08</td>\n",
       "    </tr>\n",
       "    <tr>\n",
       "      <th>10</th>\n",
       "      <td>060-065</td>\n",
       "      <td>463</td>\n",
       "      <td>6.37</td>\n",
       "      <td>36</td>\n",
       "      <td>7.78</td>\n",
       "    </tr>\n",
       "    <tr>\n",
       "      <th>11</th>\n",
       "      <td>066-071</td>\n",
       "      <td>696</td>\n",
       "      <td>9.58</td>\n",
       "      <td>57</td>\n",
       "      <td>8.19</td>\n",
       "    </tr>\n",
       "    <tr>\n",
       "      <th>12</th>\n",
       "      <td>072-077</td>\n",
       "      <td>369</td>\n",
       "      <td>5.08</td>\n",
       "      <td>6</td>\n",
       "      <td>1.63</td>\n",
       "    </tr>\n",
       "  </tbody>\n",
       "</table>\n",
       "</div>"
      ],
      "text/plain": [
       "   customer_tenure_bins  customer  perc_total_customer  churn  \\\n",
       "0               000-005      1421                19.55    744   \n",
       "1               006-011       725                 9.98    255   \n",
       "2               012-017       580                 7.98    191   \n",
       "3               018-023       489                 6.73    118   \n",
       "4               024-029       469                 6.45    101   \n",
       "5               030-035       439                 6.04     92   \n",
       "6               036-041       373                 5.13     79   \n",
       "7               042-047       395                 5.44     67   \n",
       "8               048-053       429                 5.90     64   \n",
       "9               054-059       419                 5.77     59   \n",
       "10              060-065       463                 6.37     36   \n",
       "11              066-071       696                 9.58     57   \n",
       "12              072-077       369                 5.08      6   \n",
       "\n",
       "    perc_churn_customer  \n",
       "0                 52.36  \n",
       "1                 35.17  \n",
       "2                 32.93  \n",
       "3                 24.13  \n",
       "4                 21.54  \n",
       "5                 20.96  \n",
       "6                 21.18  \n",
       "7                 16.96  \n",
       "8                 14.92  \n",
       "9                 14.08  \n",
       "10                 7.78  \n",
       "11                 8.19  \n",
       "12                 1.63  "
      ]
     },
     "execution_count": 21,
     "metadata": {},
     "output_type": "execute_result"
    }
   ],
   "source": [
    "ta.calcular_percentual_churn_categoria(df, 'customer_tenure_bins')"
   ]
  },
  {
   "cell_type": "code",
   "execution_count": 22,
   "id": "81043122-9b64-443c-bc08-555f38100da9",
   "metadata": {},
   "outputs": [
    {
     "data": {
      "text/html": [
       "<div>\n",
       "<style scoped>\n",
       "    .dataframe tbody tr th:only-of-type {\n",
       "        vertical-align: middle;\n",
       "    }\n",
       "\n",
       "    .dataframe tbody tr th {\n",
       "        vertical-align: top;\n",
       "    }\n",
       "\n",
       "    .dataframe thead th {\n",
       "        text-align: right;\n",
       "    }\n",
       "</style>\n",
       "<table border=\"1\" class=\"dataframe\">\n",
       "  <thead>\n",
       "    <tr style=\"text-align: right;\">\n",
       "      <th></th>\n",
       "      <th>customer_SeniorCitizen</th>\n",
       "      <th>customer</th>\n",
       "      <th>perc_total_customer</th>\n",
       "      <th>churn</th>\n",
       "      <th>perc_churn_customer</th>\n",
       "    </tr>\n",
       "  </thead>\n",
       "  <tbody>\n",
       "    <tr>\n",
       "      <th>0</th>\n",
       "      <td>0</td>\n",
       "      <td>6085</td>\n",
       "      <td>83.73</td>\n",
       "      <td>1393</td>\n",
       "      <td>22.89</td>\n",
       "    </tr>\n",
       "    <tr>\n",
       "      <th>1</th>\n",
       "      <td>1</td>\n",
       "      <td>1182</td>\n",
       "      <td>16.27</td>\n",
       "      <td>476</td>\n",
       "      <td>40.27</td>\n",
       "    </tr>\n",
       "  </tbody>\n",
       "</table>\n",
       "</div>"
      ],
      "text/plain": [
       "   customer_SeniorCitizen  customer  perc_total_customer  churn  \\\n",
       "0                       0      6085                83.73   1393   \n",
       "1                       1      1182                16.27    476   \n",
       "\n",
       "   perc_churn_customer  \n",
       "0                22.89  \n",
       "1                40.27  "
      ]
     },
     "execution_count": 22,
     "metadata": {},
     "output_type": "execute_result"
    }
   ],
   "source": [
    "ta.calcular_percentual_churn_categoria(df, 'customer_SeniorCitizen')"
   ]
  },
  {
   "cell_type": "code",
   "execution_count": 23,
   "id": "8235a3f8-8d4c-4d19-ace0-8711236ea5da",
   "metadata": {},
   "outputs": [
    {
     "data": {
      "text/html": [
       "<div>\n",
       "<style scoped>\n",
       "    .dataframe tbody tr th:only-of-type {\n",
       "        vertical-align: middle;\n",
       "    }\n",
       "\n",
       "    .dataframe tbody tr th {\n",
       "        vertical-align: top;\n",
       "    }\n",
       "\n",
       "    .dataframe thead th {\n",
       "        text-align: right;\n",
       "    }\n",
       "</style>\n",
       "<table border=\"1\" class=\"dataframe\">\n",
       "  <thead>\n",
       "    <tr style=\"text-align: right;\">\n",
       "      <th></th>\n",
       "      <th>customer_Partner</th>\n",
       "      <th>customer</th>\n",
       "      <th>perc_total_customer</th>\n",
       "      <th>churn</th>\n",
       "      <th>perc_churn_customer</th>\n",
       "    </tr>\n",
       "  </thead>\n",
       "  <tbody>\n",
       "    <tr>\n",
       "      <th>0</th>\n",
       "      <td>0</td>\n",
       "      <td>3749</td>\n",
       "      <td>51.59</td>\n",
       "      <td>1200</td>\n",
       "      <td>32.01</td>\n",
       "    </tr>\n",
       "    <tr>\n",
       "      <th>1</th>\n",
       "      <td>1</td>\n",
       "      <td>3518</td>\n",
       "      <td>48.41</td>\n",
       "      <td>669</td>\n",
       "      <td>19.02</td>\n",
       "    </tr>\n",
       "  </tbody>\n",
       "</table>\n",
       "</div>"
      ],
      "text/plain": [
       "   customer_Partner  customer  perc_total_customer  churn  perc_churn_customer\n",
       "0                 0      3749                51.59   1200                32.01\n",
       "1                 1      3518                48.41    669                19.02"
      ]
     },
     "execution_count": 23,
     "metadata": {},
     "output_type": "execute_result"
    }
   ],
   "source": [
    "ta.calcular_percentual_churn_categoria(df, 'customer_Partner')"
   ]
  },
  {
   "cell_type": "code",
   "execution_count": 24,
   "id": "d30de5c5-3dfd-4bd4-a1c3-65d8ac5badaf",
   "metadata": {},
   "outputs": [
    {
     "data": {
      "text/html": [
       "<div>\n",
       "<style scoped>\n",
       "    .dataframe tbody tr th:only-of-type {\n",
       "        vertical-align: middle;\n",
       "    }\n",
       "\n",
       "    .dataframe tbody tr th {\n",
       "        vertical-align: top;\n",
       "    }\n",
       "\n",
       "    .dataframe thead th {\n",
       "        text-align: right;\n",
       "    }\n",
       "</style>\n",
       "<table border=\"1\" class=\"dataframe\">\n",
       "  <thead>\n",
       "    <tr style=\"text-align: right;\">\n",
       "      <th></th>\n",
       "      <th>customer_Dependents</th>\n",
       "      <th>customer</th>\n",
       "      <th>perc_total_customer</th>\n",
       "      <th>churn</th>\n",
       "      <th>perc_churn_customer</th>\n",
       "    </tr>\n",
       "  </thead>\n",
       "  <tbody>\n",
       "    <tr>\n",
       "      <th>0</th>\n",
       "      <td>0</td>\n",
       "      <td>5086</td>\n",
       "      <td>69.99</td>\n",
       "      <td>1543</td>\n",
       "      <td>30.34</td>\n",
       "    </tr>\n",
       "    <tr>\n",
       "      <th>1</th>\n",
       "      <td>1</td>\n",
       "      <td>2181</td>\n",
       "      <td>30.01</td>\n",
       "      <td>326</td>\n",
       "      <td>14.95</td>\n",
       "    </tr>\n",
       "  </tbody>\n",
       "</table>\n",
       "</div>"
      ],
      "text/plain": [
       "   customer_Dependents  customer  perc_total_customer  churn  \\\n",
       "0                    0      5086                69.99   1543   \n",
       "1                    1      2181                30.01    326   \n",
       "\n",
       "   perc_churn_customer  \n",
       "0                30.34  \n",
       "1                14.95  "
      ]
     },
     "execution_count": 24,
     "metadata": {},
     "output_type": "execute_result"
    }
   ],
   "source": [
    "ta.calcular_percentual_churn_categoria(df, 'customer_Dependents')"
   ]
  },
  {
   "cell_type": "code",
   "execution_count": 25,
   "id": "6405b4c8-112d-481c-b92f-8ab6b9dd685a",
   "metadata": {},
   "outputs": [
    {
     "data": {
      "text/html": [
       "<div>\n",
       "<style scoped>\n",
       "    .dataframe tbody tr th:only-of-type {\n",
       "        vertical-align: middle;\n",
       "    }\n",
       "\n",
       "    .dataframe tbody tr th {\n",
       "        vertical-align: top;\n",
       "    }\n",
       "\n",
       "    .dataframe thead th {\n",
       "        text-align: right;\n",
       "    }\n",
       "</style>\n",
       "<table border=\"1\" class=\"dataframe\">\n",
       "  <thead>\n",
       "    <tr style=\"text-align: right;\">\n",
       "      <th></th>\n",
       "      <th>additional_InternetService</th>\n",
       "      <th>customer</th>\n",
       "      <th>perc_total_customer</th>\n",
       "      <th>churn</th>\n",
       "      <th>perc_churn_customer</th>\n",
       "    </tr>\n",
       "  </thead>\n",
       "  <tbody>\n",
       "    <tr>\n",
       "      <th>0</th>\n",
       "      <td>0</td>\n",
       "      <td>2302</td>\n",
       "      <td>31.68</td>\n",
       "      <td>475</td>\n",
       "      <td>20.63</td>\n",
       "    </tr>\n",
       "    <tr>\n",
       "      <th>1</th>\n",
       "      <td>1</td>\n",
       "      <td>994</td>\n",
       "      <td>13.68</td>\n",
       "      <td>442</td>\n",
       "      <td>44.47</td>\n",
       "    </tr>\n",
       "    <tr>\n",
       "      <th>2</th>\n",
       "      <td>2</td>\n",
       "      <td>1058</td>\n",
       "      <td>14.56</td>\n",
       "      <td>370</td>\n",
       "      <td>34.97</td>\n",
       "    </tr>\n",
       "    <tr>\n",
       "      <th>3</th>\n",
       "      <td>3</td>\n",
       "      <td>1149</td>\n",
       "      <td>15.81</td>\n",
       "      <td>306</td>\n",
       "      <td>26.63</td>\n",
       "    </tr>\n",
       "    <tr>\n",
       "      <th>4</th>\n",
       "      <td>4</td>\n",
       "      <td>885</td>\n",
       "      <td>12.18</td>\n",
       "      <td>190</td>\n",
       "      <td>21.47</td>\n",
       "    </tr>\n",
       "    <tr>\n",
       "      <th>5</th>\n",
       "      <td>5</td>\n",
       "      <td>588</td>\n",
       "      <td>8.09</td>\n",
       "      <td>71</td>\n",
       "      <td>12.07</td>\n",
       "    </tr>\n",
       "    <tr>\n",
       "      <th>6</th>\n",
       "      <td>6</td>\n",
       "      <td>291</td>\n",
       "      <td>4.00</td>\n",
       "      <td>15</td>\n",
       "      <td>5.15</td>\n",
       "    </tr>\n",
       "  </tbody>\n",
       "</table>\n",
       "</div>"
      ],
      "text/plain": [
       "   additional_InternetService  customer  perc_total_customer  churn  \\\n",
       "0                           0      2302                31.68    475   \n",
       "1                           1       994                13.68    442   \n",
       "2                           2      1058                14.56    370   \n",
       "3                           3      1149                15.81    306   \n",
       "4                           4       885                12.18    190   \n",
       "5                           5       588                 8.09     71   \n",
       "6                           6       291                 4.00     15   \n",
       "\n",
       "   perc_churn_customer  \n",
       "0                20.63  \n",
       "1                44.47  \n",
       "2                34.97  \n",
       "3                26.63  \n",
       "4                21.47  \n",
       "5                12.07  \n",
       "6                 5.15  "
      ]
     },
     "execution_count": 25,
     "metadata": {},
     "output_type": "execute_result"
    }
   ],
   "source": [
    "ta.calcular_percentual_churn_categoria(df, 'additional_InternetService')"
   ]
  },
  {
   "cell_type": "code",
   "execution_count": 26,
   "id": "d9a559b7-1af2-41c0-b847-4b510226bb99",
   "metadata": {},
   "outputs": [
    {
     "data": {
      "text/html": [
       "<div>\n",
       "<style scoped>\n",
       "    .dataframe tbody tr th:only-of-type {\n",
       "        vertical-align: middle;\n",
       "    }\n",
       "\n",
       "    .dataframe tbody tr th {\n",
       "        vertical-align: top;\n",
       "    }\n",
       "\n",
       "    .dataframe thead th {\n",
       "        text-align: right;\n",
       "    }\n",
       "</style>\n",
       "<table border=\"1\" class=\"dataframe\">\n",
       "  <thead>\n",
       "    <tr style=\"text-align: right;\">\n",
       "      <th></th>\n",
       "      <th>only_PhoneService</th>\n",
       "      <th>customer</th>\n",
       "      <th>perc_total_customer</th>\n",
       "      <th>churn</th>\n",
       "      <th>perc_churn_customer</th>\n",
       "    </tr>\n",
       "  </thead>\n",
       "  <tbody>\n",
       "    <tr>\n",
       "      <th>0</th>\n",
       "      <td>0</td>\n",
       "      <td>5686</td>\n",
       "      <td>78.24</td>\n",
       "      <td>1756</td>\n",
       "      <td>30.88</td>\n",
       "    </tr>\n",
       "    <tr>\n",
       "      <th>1</th>\n",
       "      <td>1</td>\n",
       "      <td>1581</td>\n",
       "      <td>21.76</td>\n",
       "      <td>113</td>\n",
       "      <td>7.15</td>\n",
       "    </tr>\n",
       "  </tbody>\n",
       "</table>\n",
       "</div>"
      ],
      "text/plain": [
       "   only_PhoneService  customer  perc_total_customer  churn  \\\n",
       "0                  0      5686                78.24   1756   \n",
       "1                  1      1581                21.76    113   \n",
       "\n",
       "   perc_churn_customer  \n",
       "0                30.88  \n",
       "1                 7.15  "
      ]
     },
     "execution_count": 26,
     "metadata": {},
     "output_type": "execute_result"
    }
   ],
   "source": [
    "ta.calcular_percentual_churn_categoria(df, 'only_PhoneService')"
   ]
  },
  {
   "cell_type": "code",
   "execution_count": 27,
   "id": "d841d779-8e7e-4cb8-8d01-e0ee6955ac1b",
   "metadata": {},
   "outputs": [
    {
     "data": {
      "text/html": [
       "<div>\n",
       "<style scoped>\n",
       "    .dataframe tbody tr th:only-of-type {\n",
       "        vertical-align: middle;\n",
       "    }\n",
       "\n",
       "    .dataframe tbody tr th {\n",
       "        vertical-align: top;\n",
       "    }\n",
       "\n",
       "    .dataframe thead th {\n",
       "        text-align: right;\n",
       "    }\n",
       "</style>\n",
       "<table border=\"1\" class=\"dataframe\">\n",
       "  <thead>\n",
       "    <tr style=\"text-align: right;\">\n",
       "      <th></th>\n",
       "      <th>only_InternetService</th>\n",
       "      <th>customer</th>\n",
       "      <th>perc_total_customer</th>\n",
       "      <th>churn</th>\n",
       "      <th>perc_churn_customer</th>\n",
       "    </tr>\n",
       "  </thead>\n",
       "  <tbody>\n",
       "    <tr>\n",
       "      <th>0</th>\n",
       "      <td>0</td>\n",
       "      <td>6560</td>\n",
       "      <td>90.27</td>\n",
       "      <td>1699</td>\n",
       "      <td>25.90</td>\n",
       "    </tr>\n",
       "    <tr>\n",
       "      <th>1</th>\n",
       "      <td>1</td>\n",
       "      <td>707</td>\n",
       "      <td>9.73</td>\n",
       "      <td>170</td>\n",
       "      <td>24.05</td>\n",
       "    </tr>\n",
       "  </tbody>\n",
       "</table>\n",
       "</div>"
      ],
      "text/plain": [
       "   only_InternetService  customer  perc_total_customer  churn  \\\n",
       "0                     0      6560                90.27   1699   \n",
       "1                     1       707                 9.73    170   \n",
       "\n",
       "   perc_churn_customer  \n",
       "0                25.90  \n",
       "1                24.05  "
      ]
     },
     "execution_count": 27,
     "metadata": {},
     "output_type": "execute_result"
    }
   ],
   "source": [
    "ta.calcular_percentual_churn_categoria(df, 'only_InternetService')"
   ]
  },
  {
   "cell_type": "code",
   "execution_count": 28,
   "id": "e663c3bc-6285-4cd4-8649-639d8ed5f456",
   "metadata": {},
   "outputs": [
    {
     "data": {
      "text/html": [
       "<div>\n",
       "<style scoped>\n",
       "    .dataframe tbody tr th:only-of-type {\n",
       "        vertical-align: middle;\n",
       "    }\n",
       "\n",
       "    .dataframe tbody tr th {\n",
       "        vertical-align: top;\n",
       "    }\n",
       "\n",
       "    .dataframe thead th {\n",
       "        text-align: right;\n",
       "    }\n",
       "</style>\n",
       "<table border=\"1\" class=\"dataframe\">\n",
       "  <thead>\n",
       "    <tr style=\"text-align: right;\">\n",
       "      <th></th>\n",
       "      <th>both_Phone_InternetService</th>\n",
       "      <th>customer</th>\n",
       "      <th>perc_total_customer</th>\n",
       "      <th>churn</th>\n",
       "      <th>perc_churn_customer</th>\n",
       "    </tr>\n",
       "  </thead>\n",
       "  <tbody>\n",
       "    <tr>\n",
       "      <th>0</th>\n",
       "      <td>0</td>\n",
       "      <td>2288</td>\n",
       "      <td>31.48</td>\n",
       "      <td>283</td>\n",
       "      <td>12.37</td>\n",
       "    </tr>\n",
       "    <tr>\n",
       "      <th>1</th>\n",
       "      <td>1</td>\n",
       "      <td>4979</td>\n",
       "      <td>68.52</td>\n",
       "      <td>1586</td>\n",
       "      <td>31.85</td>\n",
       "    </tr>\n",
       "  </tbody>\n",
       "</table>\n",
       "</div>"
      ],
      "text/plain": [
       "   both_Phone_InternetService  customer  perc_total_customer  churn  \\\n",
       "0                           0      2288                31.48    283   \n",
       "1                           1      4979                68.52   1586   \n",
       "\n",
       "   perc_churn_customer  \n",
       "0                12.37  \n",
       "1                31.85  "
      ]
     },
     "execution_count": 28,
     "metadata": {},
     "output_type": "execute_result"
    }
   ],
   "source": [
    "ta.calcular_percentual_churn_categoria(df, 'both_Phone_InternetService')"
   ]
  },
  {
   "cell_type": "code",
   "execution_count": 29,
   "id": "e72a6dc4-75e6-47ed-8118-1a37e21eb2ec",
   "metadata": {},
   "outputs": [
    {
     "data": {
      "text/html": [
       "<div>\n",
       "<style scoped>\n",
       "    .dataframe tbody tr th:only-of-type {\n",
       "        vertical-align: middle;\n",
       "    }\n",
       "\n",
       "    .dataframe tbody tr th {\n",
       "        vertical-align: top;\n",
       "    }\n",
       "\n",
       "    .dataframe thead th {\n",
       "        text-align: right;\n",
       "    }\n",
       "</style>\n",
       "<table border=\"1\" class=\"dataframe\">\n",
       "  <thead>\n",
       "    <tr style=\"text-align: right;\">\n",
       "      <th></th>\n",
       "      <th>account_Contract</th>\n",
       "      <th>customer</th>\n",
       "      <th>perc_total_customer</th>\n",
       "      <th>churn</th>\n",
       "      <th>perc_churn_customer</th>\n",
       "    </tr>\n",
       "  </thead>\n",
       "  <tbody>\n",
       "    <tr>\n",
       "      <th>0</th>\n",
       "      <td>Month-to-month</td>\n",
       "      <td>4005</td>\n",
       "      <td>55.11</td>\n",
       "      <td>1655</td>\n",
       "      <td>41.32</td>\n",
       "    </tr>\n",
       "    <tr>\n",
       "      <th>1</th>\n",
       "      <td>One year</td>\n",
       "      <td>1519</td>\n",
       "      <td>20.90</td>\n",
       "      <td>166</td>\n",
       "      <td>10.93</td>\n",
       "    </tr>\n",
       "    <tr>\n",
       "      <th>2</th>\n",
       "      <td>Two year</td>\n",
       "      <td>1743</td>\n",
       "      <td>23.99</td>\n",
       "      <td>48</td>\n",
       "      <td>2.75</td>\n",
       "    </tr>\n",
       "  </tbody>\n",
       "</table>\n",
       "</div>"
      ],
      "text/plain": [
       "  account_Contract  customer  perc_total_customer  churn  perc_churn_customer\n",
       "0   Month-to-month      4005                55.11   1655                41.32\n",
       "1         One year      1519                20.90    166                10.93\n",
       "2         Two year      1743                23.99     48                 2.75"
      ]
     },
     "execution_count": 29,
     "metadata": {},
     "output_type": "execute_result"
    }
   ],
   "source": [
    "ta.calcular_percentual_churn_categoria(df, 'account_Contract')"
   ]
  },
  {
   "cell_type": "code",
   "execution_count": 30,
   "id": "c64a41f9-f5a0-49a1-a6b5-9eabee50392c",
   "metadata": {},
   "outputs": [
    {
     "data": {
      "text/html": [
       "<div>\n",
       "<style scoped>\n",
       "    .dataframe tbody tr th:only-of-type {\n",
       "        vertical-align: middle;\n",
       "    }\n",
       "\n",
       "    .dataframe tbody tr th {\n",
       "        vertical-align: top;\n",
       "    }\n",
       "\n",
       "    .dataframe thead th {\n",
       "        text-align: right;\n",
       "    }\n",
       "</style>\n",
       "<table border=\"1\" class=\"dataframe\">\n",
       "  <thead>\n",
       "    <tr style=\"text-align: right;\">\n",
       "      <th></th>\n",
       "      <th>account_Contract_Month</th>\n",
       "      <th>customer</th>\n",
       "      <th>perc_total_customer</th>\n",
       "      <th>churn</th>\n",
       "      <th>perc_churn_customer</th>\n",
       "    </tr>\n",
       "  </thead>\n",
       "  <tbody>\n",
       "    <tr>\n",
       "      <th>0</th>\n",
       "      <td>0</td>\n",
       "      <td>3262</td>\n",
       "      <td>44.89</td>\n",
       "      <td>214</td>\n",
       "      <td>6.56</td>\n",
       "    </tr>\n",
       "    <tr>\n",
       "      <th>1</th>\n",
       "      <td>1</td>\n",
       "      <td>4005</td>\n",
       "      <td>55.11</td>\n",
       "      <td>1655</td>\n",
       "      <td>41.32</td>\n",
       "    </tr>\n",
       "  </tbody>\n",
       "</table>\n",
       "</div>"
      ],
      "text/plain": [
       "   account_Contract_Month  customer  perc_total_customer  churn  \\\n",
       "0                       0      3262                44.89    214   \n",
       "1                       1      4005                55.11   1655   \n",
       "\n",
       "   perc_churn_customer  \n",
       "0                 6.56  \n",
       "1                41.32  "
      ]
     },
     "execution_count": 30,
     "metadata": {},
     "output_type": "execute_result"
    }
   ],
   "source": [
    "ta.calcular_percentual_churn_categoria(df, 'account_Contract_Month')"
   ]
  },
  {
   "cell_type": "code",
   "execution_count": 31,
   "id": "7c410d57-3c2e-43ea-a608-ce0d4935f95b",
   "metadata": {},
   "outputs": [
    {
     "data": {
      "text/html": [
       "<div>\n",
       "<style scoped>\n",
       "    .dataframe tbody tr th:only-of-type {\n",
       "        vertical-align: middle;\n",
       "    }\n",
       "\n",
       "    .dataframe tbody tr th {\n",
       "        vertical-align: top;\n",
       "    }\n",
       "\n",
       "    .dataframe thead th {\n",
       "        text-align: right;\n",
       "    }\n",
       "</style>\n",
       "<table border=\"1\" class=\"dataframe\">\n",
       "  <thead>\n",
       "    <tr style=\"text-align: right;\">\n",
       "      <th></th>\n",
       "      <th>account_PaperlessBilling</th>\n",
       "      <th>customer</th>\n",
       "      <th>perc_total_customer</th>\n",
       "      <th>churn</th>\n",
       "      <th>perc_churn_customer</th>\n",
       "    </tr>\n",
       "  </thead>\n",
       "  <tbody>\n",
       "    <tr>\n",
       "      <th>0</th>\n",
       "      <td>0</td>\n",
       "      <td>2956</td>\n",
       "      <td>40.68</td>\n",
       "      <td>469</td>\n",
       "      <td>15.87</td>\n",
       "    </tr>\n",
       "    <tr>\n",
       "      <th>1</th>\n",
       "      <td>1</td>\n",
       "      <td>4311</td>\n",
       "      <td>59.32</td>\n",
       "      <td>1400</td>\n",
       "      <td>32.48</td>\n",
       "    </tr>\n",
       "  </tbody>\n",
       "</table>\n",
       "</div>"
      ],
      "text/plain": [
       "   account_PaperlessBilling  customer  perc_total_customer  churn  \\\n",
       "0                         0      2956                40.68    469   \n",
       "1                         1      4311                59.32   1400   \n",
       "\n",
       "   perc_churn_customer  \n",
       "0                15.87  \n",
       "1                32.48  "
      ]
     },
     "execution_count": 31,
     "metadata": {},
     "output_type": "execute_result"
    }
   ],
   "source": [
    "ta.calcular_percentual_churn_categoria(df, 'account_PaperlessBilling')"
   ]
  },
  {
   "cell_type": "code",
   "execution_count": 32,
   "id": "f5658437-017e-4b86-a6c2-2be005a6e3e7",
   "metadata": {},
   "outputs": [
    {
     "data": {
      "text/html": [
       "<div>\n",
       "<style scoped>\n",
       "    .dataframe tbody tr th:only-of-type {\n",
       "        vertical-align: middle;\n",
       "    }\n",
       "\n",
       "    .dataframe tbody tr th {\n",
       "        vertical-align: top;\n",
       "    }\n",
       "\n",
       "    .dataframe thead th {\n",
       "        text-align: right;\n",
       "    }\n",
       "</style>\n",
       "<table border=\"1\" class=\"dataframe\">\n",
       "  <thead>\n",
       "    <tr style=\"text-align: right;\">\n",
       "      <th></th>\n",
       "      <th>account_PaymentMethod</th>\n",
       "      <th>customer</th>\n",
       "      <th>perc_total_customer</th>\n",
       "      <th>churn</th>\n",
       "      <th>perc_churn_customer</th>\n",
       "    </tr>\n",
       "  </thead>\n",
       "  <tbody>\n",
       "    <tr>\n",
       "      <th>0</th>\n",
       "      <td>Bank transfer (automatic)</td>\n",
       "      <td>1589</td>\n",
       "      <td>21.87</td>\n",
       "      <td>258</td>\n",
       "      <td>16.24</td>\n",
       "    </tr>\n",
       "    <tr>\n",
       "      <th>1</th>\n",
       "      <td>Credit card (automatic)</td>\n",
       "      <td>1568</td>\n",
       "      <td>21.58</td>\n",
       "      <td>232</td>\n",
       "      <td>14.80</td>\n",
       "    </tr>\n",
       "    <tr>\n",
       "      <th>2</th>\n",
       "      <td>Electronic check</td>\n",
       "      <td>2445</td>\n",
       "      <td>33.65</td>\n",
       "      <td>1071</td>\n",
       "      <td>43.80</td>\n",
       "    </tr>\n",
       "    <tr>\n",
       "      <th>3</th>\n",
       "      <td>Mailed check</td>\n",
       "      <td>1665</td>\n",
       "      <td>22.91</td>\n",
       "      <td>308</td>\n",
       "      <td>18.50</td>\n",
       "    </tr>\n",
       "  </tbody>\n",
       "</table>\n",
       "</div>"
      ],
      "text/plain": [
       "       account_PaymentMethod  customer  perc_total_customer  churn  \\\n",
       "0  Bank transfer (automatic)      1589                21.87    258   \n",
       "1    Credit card (automatic)      1568                21.58    232   \n",
       "2           Electronic check      2445                33.65   1071   \n",
       "3               Mailed check      1665                22.91    308   \n",
       "\n",
       "   perc_churn_customer  \n",
       "0                16.24  \n",
       "1                14.80  \n",
       "2                43.80  \n",
       "3                18.50  "
      ]
     },
     "execution_count": 32,
     "metadata": {},
     "output_type": "execute_result"
    }
   ],
   "source": [
    "ta.calcular_percentual_churn_categoria(df, 'account_PaymentMethod')"
   ]
  },
  {
   "cell_type": "code",
   "execution_count": 33,
   "id": "bffc1de3-0a27-4074-a885-fde2e007ed18",
   "metadata": {},
   "outputs": [
    {
     "data": {
      "text/html": [
       "<div>\n",
       "<style scoped>\n",
       "    .dataframe tbody tr th:only-of-type {\n",
       "        vertical-align: middle;\n",
       "    }\n",
       "\n",
       "    .dataframe tbody tr th {\n",
       "        vertical-align: top;\n",
       "    }\n",
       "\n",
       "    .dataframe thead th {\n",
       "        text-align: right;\n",
       "    }\n",
       "</style>\n",
       "<table border=\"1\" class=\"dataframe\">\n",
       "  <thead>\n",
       "    <tr style=\"text-align: right;\">\n",
       "      <th></th>\n",
       "      <th>Churn</th>\n",
       "      <th>customer</th>\n",
       "      <th>perc_total_customer</th>\n",
       "      <th>churn</th>\n",
       "      <th>perc_churn_customer</th>\n",
       "    </tr>\n",
       "  </thead>\n",
       "  <tbody>\n",
       "    <tr>\n",
       "      <th>0</th>\n",
       "      <td>0</td>\n",
       "      <td>5398</td>\n",
       "      <td>74.28</td>\n",
       "      <td>0</td>\n",
       "      <td>0.0</td>\n",
       "    </tr>\n",
       "    <tr>\n",
       "      <th>1</th>\n",
       "      <td>1</td>\n",
       "      <td>1869</td>\n",
       "      <td>25.72</td>\n",
       "      <td>1869</td>\n",
       "      <td>100.0</td>\n",
       "    </tr>\n",
       "  </tbody>\n",
       "</table>\n",
       "</div>"
      ],
      "text/plain": [
       "   Churn  customer  perc_total_customer  churn  perc_churn_customer\n",
       "0      0      5398                74.28      0                  0.0\n",
       "1      1      1869                25.72   1869                100.0"
      ]
     },
     "execution_count": 33,
     "metadata": {},
     "output_type": "execute_result"
    }
   ],
   "source": [
    "ta.calcular_percentual_churn_categoria(df, 'Churn')"
   ]
  },
  {
   "cell_type": "code",
   "execution_count": null,
   "id": "b7a4b790-eafb-432b-9d2c-380adacc4353",
   "metadata": {},
   "outputs": [],
   "source": []
  },
  {
   "cell_type": "code",
   "execution_count": 34,
   "id": "bbe6b603-4bb3-4784-bfa0-ebb562a75b52",
   "metadata": {},
   "outputs": [
    {
     "name": "stdout",
     "output_type": "stream",
     "text": [
      "Custo Mensal - Estatísticas por grupo:\n"
     ]
    },
    {
     "data": {
      "text/html": [
       "<div>\n",
       "<style scoped>\n",
       "    .dataframe tbody tr th:only-of-type {\n",
       "        vertical-align: middle;\n",
       "    }\n",
       "\n",
       "    .dataframe tbody tr th {\n",
       "        vertical-align: top;\n",
       "    }\n",
       "\n",
       "    .dataframe thead th {\n",
       "        text-align: right;\n",
       "    }\n",
       "</style>\n",
       "<table border=\"1\" class=\"dataframe\">\n",
       "  <thead>\n",
       "    <tr style=\"text-align: right;\">\n",
       "      <th></th>\n",
       "      <th>count</th>\n",
       "      <th>mean</th>\n",
       "      <th>std</th>\n",
       "      <th>min</th>\n",
       "      <th>25%</th>\n",
       "      <th>50%</th>\n",
       "      <th>75%</th>\n",
       "      <th>max</th>\n",
       "    </tr>\n",
       "    <tr>\n",
       "      <th>Churn</th>\n",
       "      <th></th>\n",
       "      <th></th>\n",
       "      <th></th>\n",
       "      <th></th>\n",
       "      <th></th>\n",
       "      <th></th>\n",
       "      <th></th>\n",
       "      <th></th>\n",
       "    </tr>\n",
       "  </thead>\n",
       "  <tbody>\n",
       "    <tr>\n",
       "      <th>0</th>\n",
       "      <td>5398.0</td>\n",
       "      <td>61.354224</td>\n",
       "      <td>31.105006</td>\n",
       "      <td>18.25</td>\n",
       "      <td>25.10</td>\n",
       "      <td>64.50</td>\n",
       "      <td>88.6375</td>\n",
       "      <td>118.75</td>\n",
       "    </tr>\n",
       "    <tr>\n",
       "      <th>1</th>\n",
       "      <td>1869.0</td>\n",
       "      <td>74.441332</td>\n",
       "      <td>24.666053</td>\n",
       "      <td>18.85</td>\n",
       "      <td>56.15</td>\n",
       "      <td>79.65</td>\n",
       "      <td>94.2000</td>\n",
       "      <td>118.35</td>\n",
       "    </tr>\n",
       "  </tbody>\n",
       "</table>\n",
       "</div>"
      ],
      "text/plain": [
       "        count       mean        std    min    25%    50%      75%     max\n",
       "Churn                                                                    \n",
       "0      5398.0  61.354224  31.105006  18.25  25.10  64.50  88.6375  118.75\n",
       "1      1869.0  74.441332  24.666053  18.85  56.15  79.65  94.2000  118.35"
      ]
     },
     "metadata": {},
     "output_type": "display_data"
    },
    {
     "name": "stdout",
     "output_type": "stream",
     "text": [
      "\n",
      "Tenure (meses) - Estatísticas por grupo:\n"
     ]
    },
    {
     "data": {
      "text/html": [
       "<div>\n",
       "<style scoped>\n",
       "    .dataframe tbody tr th:only-of-type {\n",
       "        vertical-align: middle;\n",
       "    }\n",
       "\n",
       "    .dataframe tbody tr th {\n",
       "        vertical-align: top;\n",
       "    }\n",
       "\n",
       "    .dataframe thead th {\n",
       "        text-align: right;\n",
       "    }\n",
       "</style>\n",
       "<table border=\"1\" class=\"dataframe\">\n",
       "  <thead>\n",
       "    <tr style=\"text-align: right;\">\n",
       "      <th></th>\n",
       "      <th>count</th>\n",
       "      <th>mean</th>\n",
       "      <th>std</th>\n",
       "      <th>min</th>\n",
       "      <th>25%</th>\n",
       "      <th>50%</th>\n",
       "      <th>75%</th>\n",
       "      <th>max</th>\n",
       "    </tr>\n",
       "    <tr>\n",
       "      <th>Churn</th>\n",
       "      <th></th>\n",
       "      <th></th>\n",
       "      <th></th>\n",
       "      <th></th>\n",
       "      <th></th>\n",
       "      <th></th>\n",
       "      <th></th>\n",
       "      <th></th>\n",
       "    </tr>\n",
       "  </thead>\n",
       "  <tbody>\n",
       "    <tr>\n",
       "      <th>0</th>\n",
       "      <td>5398.0</td>\n",
       "      <td>37.321045</td>\n",
       "      <td>24.178367</td>\n",
       "      <td>0.0</td>\n",
       "      <td>14.0</td>\n",
       "      <td>37.0</td>\n",
       "      <td>61.0</td>\n",
       "      <td>72.0</td>\n",
       "    </tr>\n",
       "    <tr>\n",
       "      <th>1</th>\n",
       "      <td>1869.0</td>\n",
       "      <td>17.979133</td>\n",
       "      <td>19.531123</td>\n",
       "      <td>1.0</td>\n",
       "      <td>2.0</td>\n",
       "      <td>10.0</td>\n",
       "      <td>29.0</td>\n",
       "      <td>72.0</td>\n",
       "    </tr>\n",
       "  </tbody>\n",
       "</table>\n",
       "</div>"
      ],
      "text/plain": [
       "        count       mean        std  min   25%   50%   75%   max\n",
       "Churn                                                           \n",
       "0      5398.0  37.321045  24.178367  0.0  14.0  37.0  61.0  72.0\n",
       "1      1869.0  17.979133  19.531123  1.0   2.0  10.0  29.0  72.0"
      ]
     },
     "metadata": {},
     "output_type": "display_data"
    }
   ],
   "source": [
    "# Exemplo com 'account_Charges_Monthly'\n",
    "print(\"Custo Mensal - Estatísticas por grupo:\")\n",
    "display(df.groupby('Churn')['account_Charges_Monthly'].describe())\n",
    "\n",
    "# Exemplo com 'customer_tenure'\n",
    "print(\"\\nTenure (meses) - Estatísticas por grupo:\")\n",
    "display(df.groupby('Churn')['customer_tenure'].describe())"
   ]
  },
  {
   "cell_type": "code",
   "execution_count": null,
   "id": "5b753517-2c59-4079-9c78-7daaed514a8d",
   "metadata": {},
   "outputs": [],
   "source": []
  },
  {
   "cell_type": "markdown",
   "id": "9d1bf920-a1df-4772-9012-b20a60d38c02",
   "metadata": {},
   "source": [
    "#### 4. Teste estatístico: Comparação entre grupos\n",
    "Podemos usar o teste t independente (se os dados forem aproximadamente normais) ou o teste Mann-Whitney U (mais robusto para dados não normais)."
   ]
  },
  {
   "cell_type": "raw",
   "id": "e709da1f-74f4-4b19-a513-06627b42736c",
   "metadata": {},
   "source": [
    "Teste t para account_Charges_Monthly"
   ]
  },
  {
   "cell_type": "code",
   "execution_count": 35,
   "id": "cab73301-a827-4c61-97c3-30da133b984f",
   "metadata": {},
   "outputs": [
    {
     "name": "stdout",
     "output_type": "stream",
     "text": [
      "\n",
      "Teste t para account_Charges_Monthly: t=16.48, p=0.0000\n",
      "Teste Mann-Whitney para account_Charges_Monthly: U=6252996.00, p=0.0000\n"
     ]
    }
   ],
   "source": [
    "# Valores dos dois grupos\n",
    "charges_yes = df_yes['account_Charges_Monthly']\n",
    "charges_no = df_no['account_Charges_Monthly']\n",
    "\n",
    "# Teste t\n",
    "t_stat, p_val = stats.ttest_ind(charges_yes, charges_no, nan_policy='omit')\n",
    "print(f\"\\nTeste t para account_Charges_Monthly: t={t_stat:.2f}, p={p_val:.4f}\")\n",
    "\n",
    "# Teste de Mann-Whitney U\n",
    "u_stat, p_val = stats.mannwhitneyu(charges_yes, charges_no)\n",
    "print(f\"Teste Mann-Whitney para account_Charges_Monthly: U={u_stat:.2f}, p={p_val:.4f}\")"
   ]
  },
  {
   "cell_type": "raw",
   "id": "a315df37-c56b-4924-a260-ec447e0ba3ab",
   "metadata": {},
   "source": [
    "Teste Mann-Whitney para customer_tenure"
   ]
  },
  {
   "cell_type": "code",
   "execution_count": 36,
   "id": "0c1513c5-e8a9-415f-8649-3c3ab201b967",
   "metadata": {},
   "outputs": [
    {
     "name": "stdout",
     "output_type": "stream",
     "text": [
      "\n",
      "Teste t para customer_tenure: t=-31.23, p=0.0000\n",
      "Teste Mann-Whitney para customer_tenure: U=2657380.50, p=0.0000\n"
     ]
    }
   ],
   "source": [
    "tenure_yes = df_yes['customer_tenure']\n",
    "tenure_no = df_no['customer_tenure']\n",
    "\n",
    "# Teste t\n",
    "t_stat, p_val = stats.ttest_ind(tenure_yes, tenure_no, nan_policy='omit')\n",
    "print(f\"\\nTeste t para customer_tenure: t={t_stat:.2f}, p={p_val:.4f}\")\n",
    "\n",
    "# Teste de Mann-Whitney U\n",
    "u_stat, p_val = stats.mannwhitneyu(tenure_yes, tenure_no)\n",
    "print(f\"Teste Mann-Whitney para customer_tenure: U={u_stat:.2f}, p={p_val:.4f}\")"
   ]
  },
  {
   "cell_type": "code",
   "execution_count": null,
   "id": "67d30992-ff84-4471-a876-a313d1e24252",
   "metadata": {},
   "outputs": [],
   "source": []
  },
  {
   "cell_type": "markdown",
   "id": "d36c09b9-6e67-4908-8fb3-4ae4ba53d34d",
   "metadata": {},
   "source": [
    "#### 📊 Interpretação dos resultados"
   ]
  },
  {
   "cell_type": "markdown",
   "id": "648feeab-e587-4c3b-aa9a-f6ae15b2b78a",
   "metadata": {},
   "source": [
    "| Metrica | O que significa       |\n",
    "| ---------------------------------- | ----------------------------------------------------------- |\n",
    "| Média/mediana maior no grupo \"Yes\" | Cliente com essa característica tende a cancelar mais       |    \n",
    "| p-valor < 0.05                     | Há diferença estatisticamente significativa entre os grupos |\n",
    "| p-valor ≥ 0.05                     | Não há forte evidência de diferença entre os grupos         |"
   ]
  },
  {
   "cell_type": "code",
   "execution_count": null,
   "id": "34f8137d-2923-479c-8265-ec53133f2faf",
   "metadata": {},
   "outputs": [],
   "source": []
  },
  {
   "cell_type": "markdown",
   "id": "4b8b1def-340f-463d-af9c-ece3a29fcd54",
   "metadata": {},
   "source": [
    "### Salvar relatório de análise de dados após tratamento"
   ]
  },
  {
   "cell_type": "code",
   "execution_count": 37,
   "id": "4b45d4ec-1902-4eba-8d87-228ca9cc42ec",
   "metadata": {},
   "outputs": [],
   "source": [
    "#lt.save_profile_report(df, \"./report/telecom_data_report_after\", title=\"Relatório de Análise de Dados da Telecom X - Depois do tratamento de dados\")"
   ]
  },
  {
   "cell_type": "code",
   "execution_count": 38,
   "id": "25ab91b6-df31-4b3b-b8b9-19b19ba8d3f8",
   "metadata": {},
   "outputs": [],
   "source": [
    "#df[['customerID', 'account_Charges_Monthly', 'account_Charges_Total', 'customer_tenure']].to_csv('./test/numerical.csv', index=False)"
   ]
  },
  {
   "cell_type": "raw",
   "id": "5123823b-dfce-4807-9925-24e7f77534fb",
   "metadata": {},
   "source": []
  },
  {
   "cell_type": "markdown",
   "id": "5a539501-f8e9-4e03-8d78-7921f81fbbcb",
   "metadata": {
    "id": "v-WzfSvTmaw9"
   },
   "source": [
    "## 📄Relatorio Final"
   ]
  },
  {
   "cell_type": "code",
   "execution_count": 39,
   "id": "de5ea149-5593-469a-b057-095f2f75dce2",
   "metadata": {},
   "outputs": [],
   "source": [
    "%matplotlib inline\n",
    "import seaborn as sns\n",
    "import matplotlib.pyplot as plt"
   ]
  },
  {
   "cell_type": "code",
   "execution_count": null,
   "id": "f7411800-f1a9-4368-a6c2-1536a1fb9a42",
   "metadata": {},
   "outputs": [],
   "source": []
  },
  {
   "cell_type": "code",
   "execution_count": 40,
   "id": "c91dcb4f-30f9-443f-b16e-91948b2a007c",
   "metadata": {},
   "outputs": [
    {
     "data": {
      "image/png": "[encoded data removed]",
      "text/plain": [
       "<Figure size 600x400 with 1 Axes>"
      ]
     },
     "metadata": {},
     "output_type": "display_data"
    }
   ],
   "source": [
    "ta.graf_percentual_chrun(df).show()"
   ]
  },
  {
   "cell_type": "code",
   "execution_count": null,
   "id": "f64ff4da-605c-4b07-a929-4666927eecc7",
   "metadata": {},
   "outputs": [],
   "source": []
  },
  {
   "cell_type": "code",
   "execution_count": null,
   "id": "afa86162-3486-4828-9b72-8220b317a9bd",
   "metadata": {},
   "outputs": [],
   "source": []
  },
  {
   "cell_type": "code",
   "execution_count": 41,
   "id": "a90473eb-88cd-4edc-bb60-f13d0458e089",
   "metadata": {},
   "outputs": [
    {
     "data": {
      "image/png": "[encoded data removed]",
      "text/plain": [
       "<Figure size 1400x600 with 2 Axes>"
      ]
     },
     "metadata": {},
     "output_type": "display_data"
    }
   ],
   "source": [
    "ta.graf_boxplot_churn(df).show()"
   ]
  },
  {
   "cell_type": "code",
   "execution_count": null,
   "id": "813f4d92-5a1b-4bbf-8a56-97cb543ac083",
   "metadata": {},
   "outputs": [],
   "source": []
  },
  {
   "cell_type": "code",
   "execution_count": 42,
   "id": "974b4ecf-5624-49b4-b39a-ee327de09229",
   "metadata": {},
   "outputs": [
    {
     "name": "stderr",
     "output_type": "stream",
     "text": [
      "C:\\ProgramData\\anaconda3\\Lib\\site-packages\\seaborn\\_oldcore.py:1119: FutureWarning: use_inf_as_na option is deprecated and will be removed in a future version. Convert inf values to NaN before operating instead.\n",
      "  with pd.option_context('mode.use_inf_as_na', True):\n",
      "C:\\ProgramData\\anaconda3\\Lib\\site-packages\\seaborn\\_oldcore.py:1075: FutureWarning: When grouping with a length-1 list-like, you will need to pass a length-1 tuple to get_group in a future version of pandas. Pass `(name,)` instead of `name` to silence this warning.\n",
      "  data_subset = grouped_data.get_group(pd_key)\n",
      "C:\\ProgramData\\anaconda3\\Lib\\site-packages\\seaborn\\_oldcore.py:1119: FutureWarning: use_inf_as_na option is deprecated and will be removed in a future version. Convert inf values to NaN before operating instead.\n",
      "  with pd.option_context('mode.use_inf_as_na', True):\n",
      "C:\\ProgramData\\anaconda3\\Lib\\site-packages\\seaborn\\_oldcore.py:1075: FutureWarning: When grouping with a length-1 list-like, you will need to pass a length-1 tuple to get_group in a future version of pandas. Pass `(name,)` instead of `name` to silence this warning.\n",
      "  data_subset = grouped_data.get_group(pd_key)\n",
      "C:\\ProgramData\\anaconda3\\Lib\\site-packages\\seaborn\\_oldcore.py:1075: FutureWarning: When grouping with a length-1 list-like, you will need to pass a length-1 tuple to get_group in a future version of pandas. Pass `(name,)` instead of `name` to silence this warning.\n",
      "  data_subset = grouped_data.get_group(pd_key)\n"
     ]
    },
    {
     "data": {
      "image/png": "[encoded data removed]",
      "text/plain": [
       "<Figure size 1200x500 with 2 Axes>"
      ]
     },
     "metadata": {},
     "output_type": "display_data"
    }
   ],
   "source": [
    "ta.graf_distribuicao_churn(df).show()"
   ]
  },
  {
   "cell_type": "code",
   "execution_count": null,
   "id": "442d940b-b789-4a42-9430-d3efbd137a7f",
   "metadata": {},
   "outputs": [],
   "source": []
  }
 ],
 "metadata": {
  "kernelspec": {
   "display_name": "Python (debug)",
   "language": "python",
   "name": "debug-kernel"
  },
  "language_info": {
   "codemirror_mode": {
    "name": "ipython",
    "version": 3
   },
   "file_extension": ".py",
   "mimetype": "text/x-python",
   "name": "python",
   "nbconvert_exporter": "python",
   "pygments_lexer": "ipython3",
   "version": "3.11.7"
  },
  "toc": {
   "base_numbering": 0
  }
 },
 "nbformat": 4,
 "nbformat_minor": 5
}
